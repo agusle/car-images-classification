{
 "cells": [
  {
   "cell_type": "markdown",
   "id": "d11b9c24",
   "metadata": {},
   "source": [
    "# Vehicle Classification\n",
    "\n",
    "## Evaluate your model\n"
   ]
  },
  {
   "cell_type": "code",
   "execution_count": 31,
   "id": "1205a6a3",
   "metadata": {},
   "outputs": [],
   "source": [
    "import os\n",
    "\n",
    "from sklearn.metrics import accuracy_score, classification_report\n",
    "\n",
    "from utils import utils\n",
    "from models import resnet_50\n",
    "\n",
    "from tqdm import tqdm_notebook as tqdm"
   ]
  },
  {
   "cell_type": "markdown",
   "id": "491a75b4",
   "metadata": {},
   "source": [
    "## Experiment settings\n",
    "\n",
    "Set here the two variables in the following way:\n",
    "\n",
    "- **CONFIG_YML:** assign the path to the config.yml file used for the experiment you want to evaluate\n",
    "- **WEIGHTS:** assign the path to the model weights (.h5 file) you want to evaluate\n"
   ]
  },
  {
   "cell_type": "code",
   "execution_count": 32,
   "id": "7939dadf",
   "metadata": {},
   "outputs": [],
   "source": [
    "# Modify this\n",
    "CONFIG_YML = \"../experiments/exp_008/config_008.yml\"\n",
    "WEIGHTS = \"../experiments/exp_008/model.27-4.1830.h5\""
   ]
  },
  {
   "cell_type": "code",
   "execution_count": 33,
   "id": "afc06ab4",
   "metadata": {
    "scrolled": true
   },
   "outputs": [
    {
     "name": "stdout",
     "output_type": "stream",
     "text": [
      "Config loaded successfully\n"
     ]
    },
    {
     "data": {
      "text/plain": [
       "{'seed': 123,\n",
       " 'data': {'directory': '/home/app/src/data/car_ims_v1/train',\n",
       "  'labels': 'inferred',\n",
       "  'label_mode': 'categorical',\n",
       "  'validation_split': 0.2,\n",
       "  'image_size': [224, 224],\n",
       "  'batch_size': 32},\n",
       " 'model': {'weights': 'imagenet',\n",
       "  'input_shape': [224, 224, 3],\n",
       "  'classes': 196,\n",
       "  'dropout_rate': 0.5,\n",
       "  'data_aug_layer': {'random_flip': {'mode': 'horizontal'},\n",
       "   'random_rotation': {'factor': 0.5},\n",
       "   'random_zoom': {'height_factor': 0.5, 'width_factor': 0.5}}},\n",
       " 'compile': {'optimizer': {'adam': {'learning_rate': 0.0001}},\n",
       "  'loss': 'categorical_crossentropy',\n",
       "  'metrics': ['accuracy']},\n",
       " 'fit': {'epochs': 150,\n",
       "  'callbacks': {'model_checkpoint': {'filepath': '/home/app/src/experiments/exp_008/model.{epoch:02d}-{val_loss:.4f}.h5',\n",
       "    'save_best_only': True},\n",
       "   'tensor_board': {'log_dir': '/home/app/src/experiments/exp_008/logs'}}}}"
      ]
     },
     "execution_count": 33,
     "metadata": {},
     "output_type": "execute_result"
    }
   ],
   "source": [
    "# (!) Don't touch this cell, will load the config file specified before\n",
    "config = utils.load_config(CONFIG_YML)\n",
    "config"
   ]
  },
  {
   "cell_type": "code",
   "execution_count": 34,
   "id": "435199e0",
   "metadata": {},
   "outputs": [],
   "source": [
    "# (!) Don't touch this cell, will use the config file to infer the class names\n",
    "#     and also to load the corresponding testing dataset.\n",
    "#     If you get an error, you must review your data/code.\n",
    "\n",
    "MODEL_CLASSES = utils.get_class_names(config)\n",
    "\n",
    "if len(MODEL_CLASSES) != config['model']['classes']:\n",
    "    raise ValueError(\n",
    "        \"Number of classes doesn't match between your model \"\n",
    "        \"and your data!\"\n",
    "    )\n",
    "\n",
    "_dirname, _ = os.path.split(config['data']['directory'])\n",
    "TEST_FOLDER = os.path.join(_dirname, 'test')\n",
    "\n",
    "if not os.path.exists(TEST_FOLDER):\n",
    "    raise ValueError(\"'test' folder not found!\")\n",
    "    \n",
    "if len(os.listdir(TEST_FOLDER)) != config['model']['classes']:\n",
    "    raise ValueError(\n",
    "        \"Number of classes doesn't match between your model \"\n",
    "        \"and your testing dataset!\"\n",
    "    )\n",
    "    \n",
    "if set(os.listdir(TEST_FOLDER)) != set(MODEL_CLASSES):\n",
    "    raise ValueError(\n",
    "        \"The name of the subfolders inside your test set \"\n",
    "        \"doesn't match with the model classes!\"\n",
    "    )"
   ]
  },
  {
   "cell_type": "markdown",
   "id": "85511441",
   "metadata": {},
   "source": [
    "## Load your model\n",
    "\n",
    "Use `resnet_50.create_model()` and remember to properly setup the model weights!\n",
    "\n",
    "Assign the model to the variable `cnn_model`.\n"
   ]
  },
  {
   "cell_type": "code",
   "execution_count": 35,
   "id": "12f91894",
   "metadata": {
    "scrolled": true
   },
   "outputs": [
    {
     "name": "stdout",
     "output_type": "stream",
     "text": [
      "Model: \"AgusNet\"\n",
      "_________________________________________________________________\n",
      " Layer (type)                Output Shape              Param #   \n",
      "=================================================================\n",
      " input_1 (InputLayer)        [(None, 224, 224, 3)]     0         \n",
      "                                                                 \n",
      " sequential (Sequential)     (None, 224, 224, 3)       0         \n",
      "                                                                 \n",
      " tf.__operators__.getitem (S  (None, 224, 224, 3)      0         \n",
      " licingOpLambda)                                                 \n",
      "                                                                 \n",
      " tf.nn.bias_add (TFOpLambda)  (None, 224, 224, 3)      0         \n",
      "                                                                 \n",
      " resnet50 (Functional)       (None, 2048)              23587712  \n",
      "                                                                 \n",
      " dropout (Dropout)           (None, 2048)              0         \n",
      "                                                                 \n",
      " dense (Dense)               (None, 196)               401604    \n",
      "                                                                 \n",
      "=================================================================\n",
      "Total params: 23,989,316\n",
      "Trainable params: 23,936,196\n",
      "Non-trainable params: 53,120\n",
      "_________________________________________________________________\n",
      "None\n"
     ]
    }
   ],
   "source": [
    "# Complete this\n",
    "cnn_model = resnet_50.create_model(weights=WEIGHTS)\n",
    "\n",
    "# It should print your model correctly\n",
    "print(cnn_model.summary())"
   ]
  },
  {
   "cell_type": "markdown",
   "id": "b6a33cbb",
   "metadata": {},
   "source": [
    "## Get predictions from testing dataset"
   ]
  },
  {
   "cell_type": "code",
   "execution_count": 36,
   "id": "cce894dd",
   "metadata": {},
   "outputs": [
    {
     "name": "stderr",
     "output_type": "stream",
     "text": [
      "2022-06-19 23:06:05.433086: W tensorflow/core/framework/cpu_allocator_impl.cc:82] Allocation of 505440000 exceeds 10% of free system memory.\n"
     ]
    }
   ],
   "source": [
    "# (!) Don't touch this cell, will use the loaded model and\n",
    "#     the function utils.predict_from_folder() to get \n",
    "#     model predictions and the corresponding true labels\n",
    "#     so we can measure the accuracy\n",
    "\n",
    "predictions, labels = utils.predict_from_folder(\n",
    "    folder=TEST_FOLDER, \n",
    "    model=cnn_model, \n",
    "    input_size=config[\"data\"][\"image_size\"], \n",
    "    class_names=MODEL_CLASSES,\n",
    ")\n",
    "\n",
    "if len(predictions) != len(labels):\n",
    "    raise ValueError(\n",
    "        \"The lenght of predictions and labels lists doesn't match!\"\n",
    "    )\n",
    "\n",
    "if not isinstance(predictions[0], str):\n",
    "    raise ValueError(\n",
    "        \"Model predictions should be represented as string. E.g: 'Acura RL Sedan 2012'\"\n",
    "    )\n",
    "\n",
    "if not isinstance(labels[0], str):\n",
    "    raise ValueError(\n",
    "        \"Ground true labels should be represented as string. E.g: 'Acura RL Sedan 2012'\"\n",
    "    )\n"
   ]
  },
  {
   "cell_type": "code",
   "execution_count": 40,
   "id": "52b06098",
   "metadata": {
    "scrolled": true
   },
   "outputs": [
    {
     "name": "stderr",
     "output_type": "stream",
     "text": [
      "/home/app/.local/lib/python3.8/site-packages/sklearn/metrics/_classification.py:1318: UndefinedMetricWarning: Precision and F-score are ill-defined and being set to 0.0 in labels with no predicted samples. Use `zero_division` parameter to control this behavior.\n",
      "  _warn_prf(average, modifier, msg_start, len(result))\n",
      "/home/app/.local/lib/python3.8/site-packages/sklearn/metrics/_classification.py:1318: UndefinedMetricWarning: Precision and F-score are ill-defined and being set to 0.0 in labels with no predicted samples. Use `zero_division` parameter to control this behavior.\n",
      "  _warn_prf(average, modifier, msg_start, len(result))\n"
     ]
    },
    {
     "name": "stdout",
     "output_type": "stream",
     "text": [
      "                                                        precision    recall  f1-score   support\n",
      "\n",
      "                            AM General Hummer SUV 2000       0.70      0.86      0.78        44\n",
      "                             Acura Integra Type R 2001       0.38      0.68      0.48        44\n",
      "                                   Acura RL Sedan 2012       0.00      0.00      0.00        32\n",
      "                                   Acura TL Sedan 2012       0.11      0.02      0.04        43\n",
      "                                  Acura TL Type-S 2008       0.00      0.00      0.00        42\n",
      "                                  Acura TSX Sedan 2012       0.11      0.47      0.17        40\n",
      "                              Acura ZDX Hatchback 2012       0.00      0.00      0.00        39\n",
      "              Aston Martin V8 Vantage Convertible 2012       0.23      0.20      0.21        45\n",
      "                    Aston Martin V8 Vantage Coupe 2012       0.00      0.00      0.00        41\n",
      "                  Aston Martin Virage Convertible 2012       0.00      0.00      0.00        33\n",
      "                        Aston Martin Virage Coupe 2012       0.55      0.74      0.63        38\n",
      "                                   Audi 100 Sedan 1994       0.00      0.00      0.00        40\n",
      "                                   Audi 100 Wagon 1994       0.20      0.05      0.08        42\n",
      "                                    Audi A5 Coupe 2012       0.00      0.00      0.00        41\n",
      "                                    Audi R8 Coupe 2012       0.00      0.00      0.00        43\n",
      "                            Audi RS 4 Convertible 2008       0.00      0.00      0.00        36\n",
      "                                    Audi S4 Sedan 2007       0.14      0.20      0.16        45\n",
      "                                    Audi S4 Sedan 2012       0.00      0.00      0.00        39\n",
      "                              Audi S5 Convertible 2012       0.00      0.00      0.00        42\n",
      "                                    Audi S5 Coupe 2012       0.00      0.00      0.00        42\n",
      "                                    Audi S6 Sedan 2011       0.00      0.00      0.00        46\n",
      "                                Audi TT Hatchback 2011       0.33      0.03      0.05        40\n",
      "                                 Audi TT RS Coupe 2012       0.42      0.28      0.34        39\n",
      "                                   Audi TTS Coupe 2012       0.07      0.38      0.12        42\n",
      "                                    Audi V8 Sedan 1994       0.14      0.09      0.11        43\n",
      "                         BMW 1 Series Convertible 2012       0.00      0.00      0.00        35\n",
      "                               BMW 1 Series Coupe 2012       0.27      0.73      0.40        41\n",
      "                               BMW 3 Series Sedan 2012       0.00      0.00      0.00        42\n",
      "                               BMW 3 Series Wagon 2012       0.00      0.00      0.00        41\n",
      "                         BMW 6 Series Convertible 2007       0.00      0.00      0.00        44\n",
      "                         BMW ActiveHybrid 5 Sedan 2012       0.00      0.00      0.00        34\n",
      "                                     BMW M3 Coupe 2012       0.07      0.09      0.08        44\n",
      "                                     BMW M5 Sedan 2010       0.00      0.00      0.00        41\n",
      "                               BMW M6 Convertible 2010       0.00      0.00      0.00        41\n",
      "                                       BMW X3 SUV 2012       0.00      0.00      0.00        38\n",
      "                                       BMW X5 SUV 2007       0.00      0.00      0.00        41\n",
      "                                       BMW X6 SUV 2012       0.00      0.00      0.00        42\n",
      "                               BMW Z4 Convertible 2012       0.00      0.00      0.00        40\n",
      "                             Bentley Arnage Sedan 2009       0.15      0.64      0.24        39\n",
      "            Bentley Continental Flying Spur Sedan 2007       0.27      0.34      0.30        44\n",
      "                     Bentley Continental GT Coupe 2007       0.00      0.00      0.00        46\n",
      "                     Bentley Continental GT Coupe 2012       0.22      0.71      0.34        34\n",
      "Bentley Continental Supersports Conv. Convertible 2012       0.00      0.00      0.00        36\n",
      "                           Bentley Mulsanne Sedan 2011       0.42      0.31      0.36        35\n",
      "                  Bugatti Veyron 16.4 Convertible 2009       0.83      0.16      0.26        32\n",
      "                        Bugatti Veyron 16.4 Coupe 2009       0.24      0.81      0.37        43\n",
      "                                Buick Enclave SUV 2012       0.00      0.00      0.00        42\n",
      "                                Buick Rainier SUV 2007       0.00      0.00      0.00        42\n",
      "                                   Buick Regal GS 2012       0.00      0.00      0.00        35\n",
      "                               Buick Verano Sedan 2012       0.00      0.00      0.00        37\n",
      "                             Cadillac CTS-V Sedan 2012       0.00      0.00      0.00        43\n",
      "                   Cadillac Escalade EXT Crew Cab 2007       0.41      0.32      0.36        44\n",
      "                                 Cadillac SRX SUV 2012       0.00      0.00      0.00        41\n",
      "                     Chevrolet Avalanche Crew Cab 2012       0.23      0.42      0.30        45\n",
      "                     Chevrolet Camaro Convertible 2012       0.00      0.00      0.00        44\n",
      "                              Chevrolet Cobalt SS 2010       0.20      0.20      0.20        41\n",
      "                   Chevrolet Corvette Convertible 2012       0.27      0.54      0.36        39\n",
      "       Chevrolet Corvette Ron Fellows Edition Z06 2007       0.80      0.54      0.65        37\n",
      "                           Chevrolet Corvette ZR1 2012       0.59      0.37      0.45        46\n",
      "                      Chevrolet Express Cargo Van 2007       0.00      0.00      0.00        29\n",
      "                            Chevrolet Express Van 2007       1.00      0.09      0.16        35\n",
      "                                 Chevrolet HHR SS 2010       0.50      0.72      0.59        36\n",
      "                           Chevrolet Impala Sedan 2007       0.00      0.00      0.00        43\n",
      "                    Chevrolet Malibu Hybrid Sedan 2010       0.00      0.00      0.00        38\n",
      "                           Chevrolet Malibu Sedan 2007       0.00      0.00      0.00        44\n",
      "                      Chevrolet Monte Carlo Coupe 2007       0.27      0.20      0.23        45\n",
      "    Chevrolet Silverado 1500 Classic Extended Cab 2007       0.83      0.57      0.68        42\n",
      "            Chevrolet Silverado 1500 Extended Cab 2012       0.14      0.02      0.04        43\n",
      "         Chevrolet Silverado 1500 Hybrid Crew Cab 2012       0.41      0.47      0.44        40\n",
      "             Chevrolet Silverado 1500 Regular Cab 2012       0.40      0.89      0.55        44\n",
      "           Chevrolet Silverado 2500HD Regular Cab 2012       0.86      0.16      0.27        38\n",
      "                            Chevrolet Sonic Sedan 2012       0.00      0.00      0.00        44\n",
      "                       Chevrolet Tahoe Hybrid SUV 2012       0.62      0.14      0.22        37\n",
      "                         Chevrolet TrailBlazer SS 2009       0.33      0.03      0.05        40\n",
      "                           Chevrolet Traverse SUV 2012       0.00      0.00      0.00        44\n",
      "                               Chrysler 300 SRT-8 2010       0.56      0.10      0.18        48\n",
      "                               Chrysler Aspen SUV 2009       0.60      0.72      0.65        43\n",
      "                   Chrysler Crossfire Convertible 2008       0.33      0.33      0.33        43\n",
      "                  Chrysler PT Cruiser Convertible 2008       0.62      0.36      0.45        45\n",
      "                     Chrysler Sebring Convertible 2010       0.00      0.00      0.00        40\n",
      "                Chrysler Town and Country Minivan 2012       0.35      0.38      0.36        37\n",
      "                              Daewoo Nubira Wagon 2002       0.00      0.00      0.00        45\n",
      "                              Dodge Caliber Wagon 2007       0.53      0.67      0.59        42\n",
      "                              Dodge Caliber Wagon 2012       0.14      0.42      0.21        40\n",
      "                            Dodge Caravan Minivan 1997       0.67      0.23      0.34        43\n",
      "                            Dodge Challenger SRT8 2011       0.75      0.62      0.68        39\n",
      "                              Dodge Charger SRT-8 2009       0.23      0.24      0.24        42\n",
      "                              Dodge Charger Sedan 2012       0.00      0.00      0.00        41\n",
      "                            Dodge Dakota Club Cab 2007       0.32      0.68      0.44        38\n",
      "                            Dodge Dakota Crew Cab 2010       0.41      0.61      0.49        41\n",
      "                                Dodge Durango SUV 2007       0.50      0.51      0.51        45\n",
      "                                Dodge Durango SUV 2012       0.00      0.00      0.00        43\n",
      "                                Dodge Journey SUV 2012       0.00      0.00      0.00        44\n",
      "                               Dodge Magnum Wagon 2008       0.00      0.00      0.00        40\n",
      "                   Dodge Ram Pickup 3500 Crew Cab 2010       0.86      0.43      0.57        42\n",
      "                   Dodge Ram Pickup 3500 Quad Cab 2009       0.00      0.00      0.00        44\n",
      "                         Dodge Sprinter Cargo Van 2009       0.78      0.18      0.29        39\n",
      "                            Eagle Talon Hatchback 1998       0.16      0.35      0.22        46\n",
      "                                  FIAT 500 Abarth 2012       0.33      1.00      0.49        27\n",
      "                             FIAT 500 Convertible 2012       0.00      0.00      0.00        33\n",
      "                   Ferrari 458 Italia Convertible 2012       0.43      0.54      0.48        39\n",
      "                         Ferrari 458 Italia Coupe 2012       0.60      0.50      0.55        42\n",
      "                   Ferrari California Convertible 2012       0.67      0.10      0.18        39\n",
      "                                 Ferrari FF Coupe 2012       0.41      0.60      0.49        42\n",
      "                               Fisker Karma Sedan 2012       0.10      0.67      0.17        43\n",
      "                          Ford E-Series Wagon Van 2012       0.70      0.86      0.77        37\n",
      "                                    Ford Edge SUV 2012       0.00      0.00      0.00        43\n",
      "                           Ford Expedition EL SUV 2009       0.72      0.64      0.67        44\n",
      "                           Ford F-150 Regular Cab 2007       0.61      0.49      0.54        45\n",
      "                           Ford F-150 Regular Cab 2012       0.50      0.64      0.56        42\n",
      "                   Ford F-450 Super Duty Crew Cab 2012       0.68      0.46      0.55        41\n",
      "                                Ford Fiesta Sedan 2012       0.00      0.00      0.00        42\n",
      "                                 Ford Focus Sedan 2007       0.00      0.00      0.00        45\n",
      "                            Ford Freestar Minivan 2007       0.00      0.00      0.00        44\n",
      "                                    Ford GT Coupe 2006       0.31      0.36      0.33        45\n",
      "                         Ford Mustang Convertible 2007       0.00      0.00      0.00        44\n",
      "                             Ford Ranger SuperCab 2011       0.40      0.83      0.54        42\n",
      "                                   GMC Acadia SUV 2012       0.37      0.75      0.50        44\n",
      "                          GMC Canyon Extended Cab 2012       0.67      0.05      0.09        40\n",
      "                                   GMC Savana Van 2012       0.45      0.81      0.58        68\n",
      "                                  GMC Terrain SUV 2012       0.67      0.39      0.49        41\n",
      "                             GMC Yukon Hybrid SUV 2012       0.55      0.52      0.54        42\n",
      "                            Geo Metro Convertible 1993       0.87      0.45      0.60        44\n",
      "                           HUMMER H2 SUT Crew Cab 2009       0.63      0.44      0.52        43\n",
      "                              HUMMER H3T Crew Cab 2010       0.49      0.79      0.61        39\n",
      "                               Honda Accord Coupe 2012       0.00      0.00      0.00        39\n",
      "                               Honda Accord Sedan 2012       0.00      0.00      0.00        38\n",
      "                            Honda Odyssey Minivan 2007       0.00      0.00      0.00        41\n",
      "                            Honda Odyssey Minivan 2012       0.00      0.00      0.00        42\n",
      "                             Hyundai Accent Sedan 2012       0.00      0.00      0.00        24\n",
      "                              Hyundai Azera Sedan 2012       0.00      0.00      0.00        42\n",
      "                            Hyundai Elantra Sedan 2007       0.12      0.02      0.04        42\n",
      "                Hyundai Elantra Touring Hatchback 2012       0.00      0.00      0.00        42\n",
      "                            Hyundai Genesis Sedan 2012       0.06      0.84      0.11        43\n",
      "                             Hyundai Santa Fe SUV 2012       0.00      0.00      0.00        42\n",
      "                      Hyundai Sonata Hybrid Sedan 2012       0.00      0.00      0.00        33\n",
      "                             Hyundai Sonata Sedan 2012       0.02      0.03      0.02        39\n",
      "                               Hyundai Tucson SUV 2012       0.03      0.67      0.07        43\n",
      "                       Hyundai Veloster Hatchback 2012       0.13      0.56      0.21        41\n",
      "                             Hyundai Veracruz SUV 2012       0.00      0.00      0.00        42\n",
      "                             Infiniti G Coupe IPL 2012       0.00      0.00      0.00        34\n",
      "                                Infiniti QX56 SUV 2011       0.00      0.00      0.00        32\n",
      "                               Isuzu Ascender SUV 2008       0.54      0.70      0.61        40\n",
      "                                    Jaguar XK XKR 2012       0.30      0.07      0.11        46\n",
      "                                 Jeep Compass SUV 2012       0.27      0.83      0.41        42\n",
      "                          Jeep Grand Cherokee SUV 2012       0.00      0.00      0.00        45\n",
      "                                 Jeep Liberty SUV 2012       0.67      0.23      0.34        44\n",
      "                                 Jeep Patriot SUV 2012       0.57      0.61      0.59        44\n",
      "                                Jeep Wrangler SUV 2012       0.87      0.63      0.73        43\n",
      "                      Lamborghini Aventador Coupe 2012       0.56      0.63      0.59        43\n",
      "                         Lamborghini Diablo Coupe 2001       0.51      0.64      0.57        44\n",
      "       Lamborghini Gallardo LP 570-4 Superleggera 2012       0.72      0.80      0.76        35\n",
      "                       Lamborghini Reventon Coupe 2008       0.00      0.00      0.00        36\n",
      "                               Land Rover LR2 SUV 2012       0.17      0.62      0.26        42\n",
      "                       Land Rover Range Rover SUV 2012       0.34      0.50      0.40        42\n",
      "                           Lincoln Town Car Sedan 2011       0.16      0.26      0.19        39\n",
      "                 MINI Cooper Roadster Convertible 2012       0.00      0.00      0.00        36\n",
      "                    Maybach Landaulet Convertible 2012       0.00      0.00      0.00        29\n",
      "                                Mazda Tribute SUV 2011       0.00      0.00      0.00        36\n",
      "                            McLaren MP4-12C Coupe 2012       0.70      0.59      0.64        44\n",
      "              Mercedes-Benz 300-Class Convertible 1993       0.30      0.44      0.35        48\n",
      "                      Mercedes-Benz C-Class Sedan 2012       0.00      0.00      0.00        45\n",
      "                      Mercedes-Benz E-Class Sedan 2012       0.00      0.00      0.00        43\n",
      "                      Mercedes-Benz S-Class Sedan 2012       0.35      0.39      0.37        44\n",
      "                     Mercedes-Benz SL-Class Coupe 2009       0.00      0.00      0.00        36\n",
      "                       Mercedes-Benz Sprinter Van 2012       0.43      0.63      0.51        41\n",
      "                          Mitsubishi Lancer Sedan 2012       0.00      0.00      0.00        47\n",
      "                               Nissan 240SX Coupe 1998       0.33      0.02      0.04        46\n",
      "                            Nissan Juke Hatchback 2012       0.14      0.66      0.24        44\n",
      "                            Nissan Leaf Hatchback 2012       0.88      0.33      0.48        42\n",
      "                          Nissan NV Passenger Van 2012       0.43      0.79      0.56        38\n",
      "                              Plymouth Neon Coupe 1999       0.46      0.50      0.48        44\n",
      "                           Porsche Panamera Sedan 2012       0.10      0.56      0.17        43\n",
      "                        Ram C-V Cargo Van Minivan 2012       0.33      0.46      0.39        41\n",
      "                          Rolls-Royce Ghost Sedan 2012       0.00      0.00      0.00        38\n",
      "   Rolls-Royce Phantom Drophead Coupe Convertible 2012       0.00      0.00      0.00        30\n",
      "                        Rolls-Royce Phantom Sedan 2012       0.10      0.48      0.16        44\n",
      "                               Scion xD Hatchback 2012       0.00      0.00      0.00        41\n",
      "                            Spyker C8 Convertible 2009       0.40      0.53      0.46        45\n",
      "                                  Spyker C8 Coupe 2009       0.00      0.00      0.00        42\n",
      "                               Suzuki Aerio Sedan 2007       0.00      0.00      0.00        38\n",
      "                             Suzuki Kizashi Sedan 2012       0.00      0.00      0.00        46\n",
      "                             Suzuki SX4 Hatchback 2012       0.00      0.00      0.00        42\n",
      "                                 Suzuki SX4 Sedan 2012       0.00      0.00      0.00        40\n",
      "                              Tesla Model S Sedan 2012       0.00      0.00      0.00        38\n",
      "                               Toyota 4Runner SUV 2012       0.21      0.40      0.27        40\n",
      "                               Toyota Camry Sedan 2012       0.00      0.00      0.00        43\n",
      "                             Toyota Corolla Sedan 2012       0.00      0.00      0.00        43\n",
      "                               Toyota Sequoia SUV 2012       0.65      0.68      0.67        38\n",
      "                      Volkswagen Beetle Hatchback 2012       0.00      0.00      0.00        42\n",
      "                        Volkswagen Golf Hatchback 1991       0.18      0.93      0.30        46\n",
      "                        Volkswagen Golf Hatchback 2012       0.00      0.00      0.00        43\n",
      "                                  Volvo 240 Sedan 1993       0.23      0.42      0.30        45\n",
      "                              Volvo C30 Hatchback 2012       0.00      0.00      0.00        41\n",
      "                                   Volvo XC90 SUV 2007       0.00      0.00      0.00        43\n",
      "                         smart fortwo Convertible 2012       0.00      0.00      0.00        40\n",
      "\n",
      "                                              accuracy                           0.26      8041\n",
      "                                             macro avg       0.23      0.25      0.21      8041\n",
      "                                          weighted avg       0.23      0.26      0.21      8041\n",
      "\n"
     ]
    },
    {
     "name": "stderr",
     "output_type": "stream",
     "text": [
      "/home/app/.local/lib/python3.8/site-packages/sklearn/metrics/_classification.py:1318: UndefinedMetricWarning: Precision and F-score are ill-defined and being set to 0.0 in labels with no predicted samples. Use `zero_division` parameter to control this behavior.\n",
      "  _warn_prf(average, modifier, msg_start, len(result))\n"
     ]
    }
   ],
   "source": [
    "# (!) Don't touch this cell\n",
    "\n",
    "print(classification_report(y_true=labels, y_pred=predictions))\n"
   ]
  },
  {
   "cell_type": "code",
   "execution_count": 39,
   "id": "e8342c09",
   "metadata": {},
   "outputs": [
    {
     "name": "stdout",
     "output_type": "stream",
     "text": [
      "Your model accuracy is 0.2581!\n"
     ]
    },
    {
     "ename": "ValueError",
     "evalue": "Your model accuracy is too low :(\nYou can do it better! :)",
     "output_type": "error",
     "traceback": [
      "\u001b[0;31m---------------------------------------------------------------------------\u001b[0m",
      "\u001b[0;31mValueError\u001b[0m                                Traceback (most recent call last)",
      "Input \u001b[0;32mIn [39]\u001b[0m, in \u001b[0;36m<cell line: 7>\u001b[0;34m()\u001b[0m\n\u001b[1;32m      5\u001b[0m \u001b[38;5;28mprint\u001b[39m(\u001b[38;5;124mf\u001b[39m\u001b[38;5;124m\"\u001b[39m\u001b[38;5;124mYour model accuracy is \u001b[39m\u001b[38;5;132;01m{\u001b[39;00macc\u001b[38;5;132;01m:\u001b[39;00m\u001b[38;5;124m.4f\u001b[39m\u001b[38;5;132;01m}\u001b[39;00m\u001b[38;5;124m!\u001b[39m\u001b[38;5;124m\"\u001b[39m)\n\u001b[1;32m      7\u001b[0m \u001b[38;5;28;01mif\u001b[39;00m acc \u001b[38;5;241m<\u001b[39m \u001b[38;5;241m.3\u001b[39m:\n\u001b[0;32m----> 8\u001b[0m     \u001b[38;5;28;01mraise\u001b[39;00m \u001b[38;5;167;01mValueError\u001b[39;00m(\u001b[38;5;124m\"\u001b[39m\u001b[38;5;124mYour model accuracy is too low :(\u001b[39m\u001b[38;5;130;01m\\n\u001b[39;00m\u001b[38;5;124mYou can do it better! :)\u001b[39m\u001b[38;5;124m\"\u001b[39m)\n",
      "\u001b[0;31mValueError\u001b[0m: Your model accuracy is too low :(\nYou can do it better! :)"
     ]
    }
   ],
   "source": [
    "# (!) Don't touch this cell\n",
    "\n",
    "acc = accuracy_score(y_true=labels, y_pred=predictions)\n",
    "\n",
    "print(f\"Your model accuracy is {acc:.4f}!\")\n",
    "\n",
    "if acc < .3:\n",
    "    raise ValueError(\"Your model accuracy is too low :(\\nYou can do it better! :)\")\n"
   ]
  },
  {
   "cell_type": "code",
   "execution_count": null,
   "id": "c0ee5563",
   "metadata": {},
   "outputs": [],
   "source": []
  }
 ],
 "metadata": {
  "kernelspec": {
   "display_name": "Python 3.10.5 64-bit",
   "language": "python",
   "name": "python3"
  },
  "language_info": {
   "codemirror_mode": {
    "name": "ipython",
    "version": 3
   },
   "file_extension": ".py",
   "mimetype": "text/x-python",
   "name": "python",
   "nbconvert_exporter": "python",
   "pygments_lexer": "ipython3",
   "version": "3.10.5"
  },
  "vscode": {
   "interpreter": {
    "hash": "63413d40248b15c5e3979e4e9ac9f50870b25d2b4b7e5c66b4da92bd9f0fa5ed"
   }
  }
 },
 "nbformat": 4,
 "nbformat_minor": 5
}
