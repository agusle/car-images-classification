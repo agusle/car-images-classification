{
 "cells": [
  {
   "cell_type": "markdown",
   "id": "d11b9c24",
   "metadata": {},
   "source": [
    "# Vehicle Classification\n",
    "\n",
    "## Evaluate your model\n"
   ]
  },
  {
   "cell_type": "code",
   "execution_count": 7,
   "id": "1205a6a3",
   "metadata": {},
   "outputs": [],
   "source": [
    "import os\n",
    "\n",
    "from sklearn.metrics import accuracy_score, classification_report\n",
    "\n",
    "from utils import utils\n",
    "from models import resnet_50\n",
    "\n",
    "from tqdm import tqdm_notebook as tqdm"
   ]
  },
  {
   "cell_type": "markdown",
   "id": "491a75b4",
   "metadata": {},
   "source": [
    "## Experiment settings\n",
    "\n",
    "Set here the two variables in the following way:\n",
    "\n",
    "- **CONFIG_YML:** assign the path to the config.yml file used for the experiment you want to evaluate\n",
    "- **WEIGHTS:** assign the path to the model weights (.h5 file) you want to evaluate\n"
   ]
  },
  {
   "cell_type": "code",
   "execution_count": 8,
   "id": "7939dadf",
   "metadata": {},
   "outputs": [],
   "source": [
    "# Modify this\n",
    "CONFIG_YML = \"../experiments/exp_011/config_011.yml\"\n",
    "WEIGHTS = \"../experiments/exp_011/model.49-0.8807.h5\""
   ]
  },
  {
   "cell_type": "code",
   "execution_count": 9,
   "id": "afc06ab4",
   "metadata": {
    "scrolled": true
   },
   "outputs": [
    {
     "name": "stdout",
     "output_type": "stream",
     "text": [
      "Config loaded successfully\n"
     ]
    },
    {
     "data": {
      "text/plain": [
       "{'seed': 123,\n",
       " 'data': {'directory': '/home/app/src/data/car_ims_v2/train',\n",
       "  'labels': 'inferred',\n",
       "  'label_mode': 'categorical',\n",
       "  'validation_split': 0.2,\n",
       "  'image_size': [224, 224],\n",
       "  'batch_size': 64},\n",
       " 'model': {'weights': 'imagenet',\n",
       "  'input_shape': [224, 224, 3],\n",
       "  'classes': 196,\n",
       "  'dropout_rate': 0.5,\n",
       "  'data_aug_layer': {'random_flip': {'mode': 'horizontal'},\n",
       "   'random_rotation': {'factor': 0.1},\n",
       "   'random_zoom': {'height_factor': 0.15, 'width_factor': 0.15},\n",
       "   'random_contrast': {'factor': 0.1}}},\n",
       " 'compile': {'optimizer': {'adam': {'learning_rate': 9e-05}},\n",
       "  'loss': 'categorical_crossentropy',\n",
       "  'metrics': ['accuracy']},\n",
       " 'fit': {'epochs': 150,\n",
       "  'callbacks': {'model_checkpoint': {'filepath': '/home/app/src/experiments/exp_011/model.{epoch:02d}-{val_loss:.4f}.h5',\n",
       "    'save_best_only': True},\n",
       "   'tensor_board': {'log_dir': '/home/app/src/experiments/exp_011/logs'}}}}"
      ]
     },
     "execution_count": 9,
     "metadata": {},
     "output_type": "execute_result"
    }
   ],
   "source": [
    "# (!) Don't touch this cell, will load the config file specified before\n",
    "config = utils.load_config(CONFIG_YML)\n",
    "config"
   ]
  },
  {
   "cell_type": "code",
   "execution_count": 10,
   "id": "435199e0",
   "metadata": {},
   "outputs": [],
   "source": [
    "# (!) Don't touch this cell, will use the config file to infer the class names\n",
    "#     and also to load the corresponding testing dataset.\n",
    "#     If you get an error, you must review your data/code.\n",
    "\n",
    "MODEL_CLASSES = utils.get_class_names(config)\n",
    "\n",
    "if len(MODEL_CLASSES) != config['model']['classes']:\n",
    "    raise ValueError(\n",
    "        \"Number of classes doesn't match between your model \"\n",
    "        \"and your data!\"\n",
    "    )\n",
    "\n",
    "_dirname, _ = os.path.split(config['data']['directory'])\n",
    "TEST_FOLDER = os.path.join(_dirname, 'test')\n",
    "\n",
    "if not os.path.exists(TEST_FOLDER):\n",
    "    raise ValueError(\"'test' folder not found!\")\n",
    "    \n",
    "if len(os.listdir(TEST_FOLDER)) != config['model']['classes']:\n",
    "    raise ValueError(\n",
    "        \"Number of classes doesn't match between your model \"\n",
    "        \"and your testing dataset!\"\n",
    "    )\n",
    "    \n",
    "if set(os.listdir(TEST_FOLDER)) != set(MODEL_CLASSES):\n",
    "    raise ValueError(\n",
    "        \"The name of the subfolders inside your test set \"\n",
    "        \"doesn't match with the model classes!\"\n",
    "    )"
   ]
  },
  {
   "cell_type": "markdown",
   "id": "85511441",
   "metadata": {},
   "source": [
    "## Load your model\n",
    "\n",
    "Use `resnet_50.create_model()` and remember to properly setup the model weights!\n",
    "\n",
    "Assign the model to the variable `cnn_model`.\n"
   ]
  },
  {
   "cell_type": "code",
   "execution_count": 11,
   "id": "12f91894",
   "metadata": {
    "scrolled": true
   },
   "outputs": [
    {
     "name": "stderr",
     "output_type": "stream",
     "text": [
      "2022-06-24 15:41:12.971144: I tensorflow/stream_executor/cuda/cuda_gpu_executor.cc:936] successful NUMA node read from SysFS had negative value (-1), but there must be at least one NUMA node, so returning NUMA node zero\n",
      "2022-06-24 15:41:12.979958: I tensorflow/stream_executor/cuda/cuda_gpu_executor.cc:936] successful NUMA node read from SysFS had negative value (-1), but there must be at least one NUMA node, so returning NUMA node zero\n",
      "2022-06-24 15:41:12.980739: I tensorflow/stream_executor/cuda/cuda_gpu_executor.cc:936] successful NUMA node read from SysFS had negative value (-1), but there must be at least one NUMA node, so returning NUMA node zero\n",
      "2022-06-24 15:41:12.982469: I tensorflow/core/platform/cpu_feature_guard.cc:151] This TensorFlow binary is optimized with oneAPI Deep Neural Network Library (oneDNN) to use the following CPU instructions in performance-critical operations:  AVX2 FMA\n",
      "To enable them in other operations, rebuild TensorFlow with the appropriate compiler flags.\n",
      "2022-06-24 15:41:12.982985: I tensorflow/stream_executor/cuda/cuda_gpu_executor.cc:936] successful NUMA node read from SysFS had negative value (-1), but there must be at least one NUMA node, so returning NUMA node zero\n",
      "2022-06-24 15:41:12.983825: I tensorflow/stream_executor/cuda/cuda_gpu_executor.cc:936] successful NUMA node read from SysFS had negative value (-1), but there must be at least one NUMA node, so returning NUMA node zero\n",
      "2022-06-24 15:41:12.984687: I tensorflow/stream_executor/cuda/cuda_gpu_executor.cc:936] successful NUMA node read from SysFS had negative value (-1), but there must be at least one NUMA node, so returning NUMA node zero\n",
      "2022-06-24 15:41:13.583661: I tensorflow/stream_executor/cuda/cuda_gpu_executor.cc:936] successful NUMA node read from SysFS had negative value (-1), but there must be at least one NUMA node, so returning NUMA node zero\n",
      "2022-06-24 15:41:13.584537: I tensorflow/stream_executor/cuda/cuda_gpu_executor.cc:936] successful NUMA node read from SysFS had negative value (-1), but there must be at least one NUMA node, so returning NUMA node zero\n",
      "2022-06-24 15:41:13.585404: I tensorflow/stream_executor/cuda/cuda_gpu_executor.cc:936] successful NUMA node read from SysFS had negative value (-1), but there must be at least one NUMA node, so returning NUMA node zero\n",
      "2022-06-24 15:41:13.586127: I tensorflow/core/common_runtime/gpu/gpu_device.cc:1525] Created device /job:localhost/replica:0/task:0/device:GPU:0 with 10040 MB memory:  -> device: 0, name: Tesla K80, pci bus id: 0000:00:1e.0, compute capability: 3.7\n"
     ]
    },
    {
     "name": "stdout",
     "output_type": "stream",
     "text": [
      "Model: \"AgusNet\"\n",
      "_________________________________________________________________\n",
      " Layer (type)                Output Shape              Param #   \n",
      "=================================================================\n",
      " input_1 (InputLayer)        [(None, 224, 224, 3)]     0         \n",
      "                                                                 \n",
      " sequential (Sequential)     (None, 224, 224, 3)       0         \n",
      "                                                                 \n",
      " tf.__operators__.getitem (S  (None, 224, 224, 3)      0         \n",
      " licingOpLambda)                                                 \n",
      "                                                                 \n",
      " tf.nn.bias_add (TFOpLambda)  (None, 224, 224, 3)      0         \n",
      "                                                                 \n",
      " resnet50 (Functional)       (None, 2048)              23587712  \n",
      "                                                                 \n",
      " dropout (Dropout)           (None, 2048)              0         \n",
      "                                                                 \n",
      " dense (Dense)               (None, 196)               401604    \n",
      "                                                                 \n",
      "=================================================================\n",
      "Total params: 23,989,316\n",
      "Trainable params: 23,936,196\n",
      "Non-trainable params: 53,120\n",
      "_________________________________________________________________\n",
      "None\n"
     ]
    }
   ],
   "source": [
    "# Complete this\n",
    "cnn_model = resnet_50.create_model(weights=WEIGHTS)\n",
    "\n",
    "# It should print your model correctly\n",
    "print(cnn_model.summary())"
   ]
  },
  {
   "cell_type": "markdown",
   "id": "b6a33cbb",
   "metadata": {},
   "source": [
    "## Get predictions from testing dataset"
   ]
  },
  {
   "cell_type": "code",
   "execution_count": 12,
   "id": "cce894dd",
   "metadata": {},
   "outputs": [
    {
     "name": "stderr",
     "output_type": "stream",
     "text": [
      "2022-06-24 15:41:18.833931: I tensorflow/stream_executor/cuda/cuda_dnn.cc:368] Loaded cuDNN version 8200\n",
      "2022-06-24 15:41:19.115581: I tensorflow/core/platform/default/subprocess.cc:304] Start cannot spawn child process: No such file or directory\n",
      "2022-06-24 15:41:19.116171: I tensorflow/core/platform/default/subprocess.cc:304] Start cannot spawn child process: No such file or directory\n",
      "2022-06-24 15:41:19.116231: W tensorflow/stream_executor/gpu/asm_compiler.cc:80] Couldn't get ptxas version string: INTERNAL: Couldn't invoke ptxas --version\n",
      "2022-06-24 15:41:19.117010: I tensorflow/core/platform/default/subprocess.cc:304] Start cannot spawn child process: No such file or directory\n",
      "2022-06-24 15:41:19.117123: W tensorflow/stream_executor/gpu/redzone_allocator.cc:314] INTERNAL: Failed to launch ptxas\n",
      "Relying on driver to perform ptx compilation. \n",
      "Modify $PATH to customize ptxas location.\n",
      "This message will be only logged once.\n"
     ]
    }
   ],
   "source": [
    "# (!) Don't touch this cell, will use the loaded model and\n",
    "#     the function utils.predict_from_folder() to get \n",
    "#     model predictions and the corresponding true labels\n",
    "#     so we can measure the accuracy\n",
    "\n",
    "predictions, labels = utils.predict_from_folder(\n",
    "    folder=TEST_FOLDER, \n",
    "    model=cnn_model, \n",
    "    input_size=config[\"data\"][\"image_size\"], \n",
    "    class_names=MODEL_CLASSES,\n",
    ")\n",
    "\n",
    "if len(predictions) != len(labels):\n",
    "    raise ValueError(\n",
    "        \"The lenght of predictions and labels lists doesn't match!\"\n",
    "    )\n",
    "\n",
    "if not isinstance(predictions[0], str):\n",
    "    raise ValueError(\n",
    "        \"Model predictions should be represented as string. E.g: 'Acura RL Sedan 2012'\"\n",
    "    )\n",
    "\n",
    "if not isinstance(labels[0], str):\n",
    "    raise ValueError(\n",
    "        \"Ground true labels should be represented as string. E.g: 'Acura RL Sedan 2012'\"\n",
    "    )\n"
   ]
  },
  {
   "cell_type": "code",
   "execution_count": 13,
   "id": "52b06098",
   "metadata": {
    "scrolled": true
   },
   "outputs": [
    {
     "name": "stdout",
     "output_type": "stream",
     "text": [
      "                                                        precision    recall  f1-score   support\n",
      "\n",
      "                            AM_General_Hummer_SUV_2000       0.83      0.57      0.68        44\n",
      "                             Acura_Integra_Type_R_2001       0.89      0.75      0.81        44\n",
      "                                   Acura_RL_Sedan_2012       0.82      0.28      0.42        32\n",
      "                                   Acura_TL_Sedan_2012       0.76      0.72      0.74        43\n",
      "                                  Acura_TL_Type-S_2008       0.87      0.48      0.62        42\n",
      "                                  Acura_TSX_Sedan_2012       1.00      0.38      0.55        40\n",
      "                              Acura_ZDX_Hatchback_2012       0.63      0.62      0.62        39\n",
      "              Aston_Martin_V8_Vantage_Convertible_2012       0.22      0.31      0.26        45\n",
      "                    Aston_Martin_V8_Vantage_Coupe_2012       0.21      0.51      0.30        41\n",
      "                  Aston_Martin_Virage_Convertible_2012       0.43      0.67      0.52        33\n",
      "                        Aston_Martin_Virage_Coupe_2012       0.47      0.84      0.60        38\n",
      "                                   Audi_100_Sedan_1994       0.37      0.17      0.24        40\n",
      "                                   Audi_100_Wagon_1994       0.23      0.40      0.29        42\n",
      "                                    Audi_A5_Coupe_2012       0.59      0.49      0.53        41\n",
      "                                    Audi_R8_Coupe_2012       0.86      0.44      0.58        43\n",
      "                            Audi_RS_4_Convertible_2008       0.48      0.89      0.63        36\n",
      "                                    Audi_S4_Sedan_2007       0.65      0.53      0.59        45\n",
      "                                    Audi_S4_Sedan_2012       0.35      0.49      0.41        39\n",
      "                              Audi_S5_Convertible_2012       0.61      0.26      0.37        42\n",
      "                                    Audi_S5_Coupe_2012       0.57      0.31      0.40        42\n",
      "                                    Audi_S6_Sedan_2011       0.57      0.65      0.61        46\n",
      "                                   Audi_TTS_Coupe_2012       0.29      0.17      0.21        42\n",
      "                                Audi_TT_Hatchback_2011       0.27      0.30      0.29        40\n",
      "                                 Audi_TT_RS_Coupe_2012       0.30      0.85      0.44        39\n",
      "                                    Audi_V8_Sedan_1994       0.43      0.47      0.44        43\n",
      "                         BMW_1_Series_Convertible_2012       0.54      0.54      0.54        35\n",
      "                               BMW_1_Series_Coupe_2012       0.48      0.80      0.60        41\n",
      "                               BMW_3_Series_Sedan_2012       0.61      0.52      0.56        42\n",
      "                               BMW_3_Series_Wagon_2012       0.70      0.46      0.56        41\n",
      "                         BMW_6_Series_Convertible_2007       0.36      0.32      0.34        44\n",
      "                         BMW_ActiveHybrid_5_Sedan_2012       0.91      0.62      0.74        34\n",
      "                                     BMW_M3_Coupe_2012       0.52      0.57      0.54        44\n",
      "                                     BMW_M5_Sedan_2010       0.35      0.76      0.48        41\n",
      "                               BMW_M6_Convertible_2010       0.46      0.39      0.42        41\n",
      "                                       BMW_X3_SUV_2012       0.49      0.63      0.55        38\n",
      "                                       BMW_X5_SUV_2007       0.43      0.80      0.56        41\n",
      "                                       BMW_X6_SUV_2012       0.35      0.67      0.46        42\n",
      "                               BMW_Z4_Convertible_2012       0.48      0.30      0.37        40\n",
      "                             Bentley_Arnage_Sedan_2009       0.60      0.82      0.70        39\n",
      "            Bentley_Continental_Flying_Spur_Sedan_2007       0.47      0.43      0.45        44\n",
      "                     Bentley_Continental_GT_Coupe_2007       0.31      0.63      0.41        46\n",
      "                     Bentley_Continental_GT_Coupe_2012       0.64      0.41      0.50        34\n",
      "Bentley_Continental_Supersports_Conv._Convertible_2012       0.69      0.61      0.65        36\n",
      "                           Bentley_Mulsanne_Sedan_2011       0.63      0.63      0.63        35\n",
      "                  Bugatti_Veyron_16.4_Convertible_2009       0.58      0.59      0.58        32\n",
      "                        Bugatti_Veyron_16.4_Coupe_2009       0.48      0.67      0.56        43\n",
      "                                Buick_Enclave_SUV_2012       0.76      0.69      0.72        42\n",
      "                                Buick_Rainier_SUV_2007       0.91      0.48      0.62        42\n",
      "                                   Buick_Regal_GS_2012       0.90      0.51      0.65        35\n",
      "                               Buick_Verano_Sedan_2012       1.00      0.51      0.68        37\n",
      "                             Cadillac_CTS-V_Sedan_2012       0.96      0.60      0.74        43\n",
      "                   Cadillac_Escalade_EXT_Crew_Cab_2007       0.89      0.36      0.52        44\n",
      "                                 Cadillac_SRX_SUV_2012       0.95      0.51      0.67        41\n",
      "                     Chevrolet_Avalanche_Crew_Cab_2012       0.60      0.47      0.52        45\n",
      "                     Chevrolet_Camaro_Convertible_2012       0.89      0.36      0.52        44\n",
      "                              Chevrolet_Cobalt_SS_2010       0.57      0.56      0.57        41\n",
      "                   Chevrolet_Corvette_Convertible_2012       0.34      0.59      0.43        39\n",
      "       Chevrolet_Corvette_Ron_Fellows_Edition_Z06_2007       0.86      0.68      0.76        37\n",
      "                           Chevrolet_Corvette_ZR1_2012       0.66      0.46      0.54        46\n",
      "                      Chevrolet_Express_Cargo_Van_2007       0.13      0.86      0.23        29\n",
      "                            Chevrolet_Express_Van_2007       0.35      0.17      0.23        35\n",
      "                                 Chevrolet_HHR_SS_2010       0.37      0.86      0.52        36\n",
      "                           Chevrolet_Impala_Sedan_2007       0.50      0.56      0.53        43\n",
      "                    Chevrolet_Malibu_Hybrid_Sedan_2010       0.75      0.24      0.36        38\n",
      "                           Chevrolet_Malibu_Sedan_2007       0.53      0.45      0.49        44\n",
      "                      Chevrolet_Monte_Carlo_Coupe_2007       0.65      0.29      0.40        45\n",
      "    Chevrolet_Silverado_1500_Classic_Extended_Cab_2007       0.84      0.74      0.78        42\n",
      "            Chevrolet_Silverado_1500_Extended_Cab_2012       0.31      0.44      0.36        43\n",
      "         Chevrolet_Silverado_1500_Hybrid_Crew_Cab_2012       0.74      0.42      0.54        40\n",
      "             Chevrolet_Silverado_1500_Regular_Cab_2012       0.35      0.52      0.42        44\n",
      "           Chevrolet_Silverado_2500HD_Regular_Cab_2012       0.53      0.21      0.30        38\n",
      "                            Chevrolet_Sonic_Sedan_2012       0.59      0.75      0.66        44\n",
      "                       Chevrolet_Tahoe_Hybrid_SUV_2012       0.90      0.24      0.38        37\n",
      "                         Chevrolet_TrailBlazer_SS_2009       0.83      0.47      0.60        40\n",
      "                           Chevrolet_Traverse_SUV_2012       0.76      0.66      0.71        44\n",
      "                               Chrysler_300_SRT-8_2010       0.56      0.42      0.48        48\n",
      "                               Chrysler_Aspen_SUV_2009       0.81      0.51      0.63        43\n",
      "                   Chrysler_Crossfire_Convertible_2008       0.86      0.56      0.68        43\n",
      "                  Chrysler_PT_Cruiser_Convertible_2008       0.30      0.76      0.43        45\n",
      "                     Chrysler_Sebring_Convertible_2010       0.94      0.38      0.54        40\n",
      "                Chrysler_Town_and_Country_Minivan_2012       0.89      0.46      0.61        37\n",
      "                              Daewoo_Nubira_Wagon_2002       0.76      0.49      0.59        45\n",
      "                              Dodge_Caliber_Wagon_2007       0.68      0.50      0.58        42\n",
      "                              Dodge_Caliber_Wagon_2012       0.47      0.38      0.42        40\n",
      "                            Dodge_Caravan_Minivan_1997       0.97      0.81      0.89        43\n",
      "                            Dodge_Challenger_SRT8_2011       0.83      0.49      0.61        39\n",
      "                              Dodge_Charger_SRT-8_2009       0.57      0.55      0.56        42\n",
      "                              Dodge_Charger_Sedan_2012       0.75      0.59      0.66        41\n",
      "                            Dodge_Dakota_Club_Cab_2007       0.78      0.66      0.71        38\n",
      "                            Dodge_Dakota_Crew_Cab_2010       1.00      0.12      0.22        41\n",
      "                                Dodge_Durango_SUV_2007       0.74      0.56      0.63        45\n",
      "                                Dodge_Durango_SUV_2012       0.85      0.53      0.66        43\n",
      "                                Dodge_Journey_SUV_2012       0.95      0.82      0.88        44\n",
      "                               Dodge_Magnum_Wagon_2008       0.53      0.40      0.46        40\n",
      "                   Dodge_Ram_Pickup_3500_Crew_Cab_2010       0.96      0.55      0.70        42\n",
      "                   Dodge_Ram_Pickup_3500_Quad_Cab_2009       0.77      0.52      0.62        44\n",
      "                         Dodge_Sprinter_Cargo_Van_2009       0.54      0.33      0.41        39\n",
      "                            Eagle_Talon_Hatchback_1998       0.41      0.70      0.52        46\n",
      "                                  FIAT_500_Abarth_2012       0.81      0.96      0.88        27\n",
      "                             FIAT_500_Convertible_2012       0.90      0.82      0.86        33\n",
      "                   Ferrari_458_Italia_Convertible_2012       0.56      0.26      0.35        39\n",
      "                         Ferrari_458_Italia_Coupe_2012       0.55      0.43      0.48        42\n",
      "                   Ferrari_California_Convertible_2012       0.77      0.59      0.67        39\n",
      "                                 Ferrari_FF_Coupe_2012       0.83      0.60      0.69        42\n",
      "                               Fisker_Karma_Sedan_2012       0.69      0.42      0.52        43\n",
      "                          Ford_E-Series_Wagon_Van_2012       1.00      0.84      0.91        37\n",
      "                                    Ford_Edge_SUV_2012       0.93      0.58      0.71        43\n",
      "                           Ford_Expedition_EL_SUV_2009       1.00      0.41      0.58        44\n",
      "                           Ford_F-150_Regular_Cab_2007       0.62      0.78      0.69        45\n",
      "                           Ford_F-150_Regular_Cab_2012       0.68      0.86      0.76        42\n",
      "                   Ford_F-450_Super_Duty_Crew_Cab_2012       0.86      0.61      0.71        41\n",
      "                                Ford_Fiesta_Sedan_2012       0.44      0.71      0.55        42\n",
      "                                 Ford_Focus_Sedan_2007       0.57      0.78      0.66        45\n",
      "                            Ford_Freestar_Minivan_2007       0.94      0.77      0.85        44\n",
      "                                    Ford_GT_Coupe_2006       0.65      0.44      0.53        45\n",
      "                         Ford_Mustang_Convertible_2007       0.58      0.43      0.49        44\n",
      "                             Ford_Ranger_SuperCab_2011       0.39      0.81      0.52        42\n",
      "                                   GMC_Acadia_SUV_2012       0.60      0.68      0.64        44\n",
      "                          GMC_Canyon_Extended_Cab_2012       0.59      0.57      0.58        40\n",
      "                                   GMC_Savana_Van_2012       0.38      0.51      0.44        68\n",
      "                                  GMC_Terrain_SUV_2012       0.69      0.76      0.72        41\n",
      "                             GMC_Yukon_Hybrid_SUV_2012       0.52      0.60      0.56        42\n",
      "                            Geo_Metro_Convertible_1993       0.60      0.80      0.69        44\n",
      "                           HUMMER_H2_SUT_Crew_Cab_2009       0.90      0.42      0.57        43\n",
      "                              HUMMER_H3T_Crew_Cab_2010       0.68      0.64      0.66        39\n",
      "                               Honda_Accord_Coupe_2012       0.52      0.41      0.46        39\n",
      "                               Honda_Accord_Sedan_2012       0.90      0.24      0.38        38\n",
      "                            Honda_Odyssey_Minivan_2007       0.80      0.68      0.74        41\n",
      "                            Honda_Odyssey_Minivan_2012       0.69      0.64      0.67        42\n",
      "                             Hyundai_Accent_Sedan_2012       0.38      0.21      0.27        24\n",
      "                              Hyundai_Azera_Sedan_2012       0.65      0.48      0.55        42\n",
      "                            Hyundai_Elantra_Sedan_2007       0.92      0.55      0.69        42\n",
      "                Hyundai_Elantra_Touring_Hatchback_2012       0.78      0.67      0.72        42\n",
      "                            Hyundai_Genesis_Sedan_2012       0.90      0.60      0.72        43\n",
      "                             Hyundai_Santa_Fe_SUV_2012       0.84      0.76      0.80        42\n",
      "                      Hyundai_Sonata_Hybrid_Sedan_2012       0.95      0.58      0.72        33\n",
      "                             Hyundai_Sonata_Sedan_2012       0.79      0.67      0.72        39\n",
      "                               Hyundai_Tucson_SUV_2012       0.66      0.67      0.67        43\n",
      "                       Hyundai_Veloster_Hatchback_2012       0.42      0.54      0.47        41\n",
      "                             Hyundai_Veracruz_SUV_2012       0.95      0.48      0.63        42\n",
      "                             Infiniti_G_Coupe_IPL_2012       0.18      0.65      0.28        34\n",
      "                                Infiniti_QX56_SUV_2011       0.95      0.62      0.75        32\n",
      "                               Isuzu_Ascender_SUV_2008       1.00      0.60      0.75        40\n",
      "                                    Jaguar_XK_XKR_2012       0.61      0.41      0.49        46\n",
      "                                 Jeep_Compass_SUV_2012       0.78      0.60      0.68        42\n",
      "                          Jeep_Grand_Cherokee_SUV_2012       0.54      0.64      0.59        45\n",
      "                                 Jeep_Liberty_SUV_2012       0.93      0.57      0.70        44\n",
      "                                 Jeep_Patriot_SUV_2012       0.63      0.84      0.72        44\n",
      "                                Jeep_Wrangler_SUV_2012       0.69      1.00      0.82        43\n",
      "                      Lamborghini_Aventador_Coupe_2012       0.88      0.49      0.63        43\n",
      "                         Lamborghini_Diablo_Coupe_2001       0.60      0.82      0.69        44\n",
      "       Lamborghini_Gallardo_LP_570-4_Superleggera_2012       0.88      0.80      0.84        35\n",
      "                       Lamborghini_Reventon_Coupe_2008       0.32      0.75      0.45        36\n",
      "                               Land_Rover_LR2_SUV_2012       1.00      0.62      0.76        42\n",
      "                       Land_Rover_Range_Rover_SUV_2012       0.92      0.86      0.89        42\n",
      "                           Lincoln_Town_Car_Sedan_2011       0.61      0.56      0.59        39\n",
      "                 MINI_Cooper_Roadster_Convertible_2012       0.93      0.75      0.83        36\n",
      "                    Maybach_Landaulet_Convertible_2012       0.41      0.86      0.56        29\n",
      "                                Mazda_Tribute_SUV_2011       0.54      0.72      0.62        36\n",
      "                            McLaren_MP4-12C_Coupe_2012       0.75      0.55      0.63        44\n",
      "              Mercedes-Benz_300-Class_Convertible_1993       0.51      0.42      0.46        48\n",
      "                      Mercedes-Benz_C-Class_Sedan_2012       0.74      0.56      0.63        45\n",
      "                      Mercedes-Benz_E-Class_Sedan_2012       0.64      0.33      0.43        43\n",
      "                      Mercedes-Benz_S-Class_Sedan_2012       0.95      0.41      0.57        44\n",
      "                     Mercedes-Benz_SL-Class_Coupe_2009       0.64      0.39      0.48        36\n",
      "                       Mercedes-Benz_Sprinter_Van_2012       0.55      0.85      0.67        41\n",
      "                          Mitsubishi_Lancer_Sedan_2012       0.61      0.64      0.62        47\n",
      "                               Nissan_240SX_Coupe_1998       0.80      0.43      0.56        46\n",
      "                            Nissan_Juke_Hatchback_2012       0.55      0.64      0.59        44\n",
      "                            Nissan_Leaf_Hatchback_2012       0.78      0.69      0.73        42\n",
      "                          Nissan_NV_Passenger_Van_2012       0.93      0.71      0.81        38\n",
      "                              Plymouth_Neon_Coupe_1999       0.86      0.73      0.79        44\n",
      "                           Porsche_Panamera_Sedan_2012       0.33      0.58      0.42        43\n",
      "                        Ram_C-V_Cargo_Van_Minivan_2012       0.73      0.66      0.69        41\n",
      "                          Rolls-Royce_Ghost_Sedan_2012       0.26      0.61      0.36        38\n",
      "   Rolls-Royce_Phantom_Drophead_Coupe_Convertible_2012       0.57      0.53      0.55        30\n",
      "                        Rolls-Royce_Phantom_Sedan_2012       0.79      0.34      0.48        44\n",
      "                               Scion_xD_Hatchback_2012       0.35      0.73      0.48        41\n",
      "                            Spyker_C8_Convertible_2009       0.37      0.60      0.46        45\n",
      "                                  Spyker_C8_Coupe_2009       0.72      0.50      0.59        42\n",
      "                               Suzuki_Aerio_Sedan_2007       0.63      0.50      0.56        38\n",
      "                             Suzuki_Kizashi_Sedan_2012       0.43      0.59      0.50        46\n",
      "                             Suzuki_SX4_Hatchback_2012       0.82      0.43      0.56        42\n",
      "                                 Suzuki_SX4_Sedan_2012       0.75      0.38      0.50        40\n",
      "                              Tesla_Model_S_Sedan_2012       0.28      0.58      0.38        38\n",
      "                               Toyota_4Runner_SUV_2012       0.66      0.53      0.58        40\n",
      "                               Toyota_Camry_Sedan_2012       0.71      0.58      0.64        43\n",
      "                             Toyota_Corolla_Sedan_2012       0.90      0.44      0.59        43\n",
      "                               Toyota_Sequoia_SUV_2012       0.88      0.61      0.72        38\n",
      "                      Volkswagen_Beetle_Hatchback_2012       0.36      0.83      0.50        42\n",
      "                        Volkswagen_Golf_Hatchback_1991       0.82      0.78      0.80        46\n",
      "                        Volkswagen_Golf_Hatchback_2012       0.41      0.53      0.46        43\n",
      "                                  Volvo_240_Sedan_1993       0.89      0.73      0.80        45\n",
      "                              Volvo_C30_Hatchback_2012       0.64      0.51      0.57        41\n",
      "                                   Volvo_XC90_SUV_2007       0.60      0.84      0.70        43\n",
      "                         smart_fortwo_Convertible_2012       0.83      0.60      0.70        40\n",
      "\n",
      "                                              accuracy                           0.57      8041\n",
      "                                             macro avg       0.66      0.57      0.58      8041\n",
      "                                          weighted avg       0.66      0.57      0.58      8041\n",
      "\n"
     ]
    }
   ],
   "source": [
    "# (!) Don't touch this cell\n",
    "\n",
    "print(classification_report(y_true=labels, y_pred=predictions))\n"
   ]
  },
  {
   "cell_type": "code",
   "execution_count": 14,
   "id": "e8342c09",
   "metadata": {},
   "outputs": [
    {
     "name": "stdout",
     "output_type": "stream",
     "text": [
      "Your model accuracy is 0.5665!\n"
     ]
    }
   ],
   "source": [
    "# (!) Don't touch this cell\n",
    "\n",
    "acc = accuracy_score(y_true=labels, y_pred=predictions)\n",
    "\n",
    "print(f\"Your model accuracy is {acc:.4f}!\")\n",
    "\n",
    "if acc < .3:\n",
    "    raise ValueError(\"Your model accuracy is too low :(\\nYou can do it better! :)\")\n"
   ]
  },
  {
   "cell_type": "code",
   "execution_count": null,
   "id": "c0ee5563",
   "metadata": {},
   "outputs": [],
   "source": []
  }
 ],
 "metadata": {
  "kernelspec": {
   "display_name": "Python 3 (ipykernel)",
   "language": "python",
   "name": "python3"
  },
  "language_info": {
   "codemirror_mode": {
    "name": "ipython",
    "version": 3
   },
   "file_extension": ".py",
   "mimetype": "text/x-python",
   "name": "python",
   "nbconvert_exporter": "python",
   "pygments_lexer": "ipython3",
   "version": "3.8.10"
  },
  "vscode": {
   "interpreter": {
    "hash": "63413d40248b15c5e3979e4e9ac9f50870b25d2b4b7e5c66b4da92bd9f0fa5ed"
   }
  }
 },
 "nbformat": 4,
 "nbformat_minor": 5
}
